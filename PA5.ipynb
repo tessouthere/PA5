{
 "cells": [
  {
   "cell_type": "markdown",
   "id": "febc55bc",
   "metadata": {},
   "source": [
    "## Programming Assignment 5\n",
    "### Tess Anderson\n",
    "#### Version 1\n",
    "##### Fall 2022 CS-150-01"
   ]
  },
  {
   "cell_type": "code",
   "execution_count": 1,
   "id": "1d7f05c6",
   "metadata": {},
   "outputs": [],
   "source": [
    "import math"
   ]
  },
  {
   "cell_type": "code",
   "execution_count": 2,
   "id": "b99bdc5a",
   "metadata": {},
   "outputs": [
    {
     "name": "stdout",
     "output_type": "stream",
     "text": [
      "Enter the length of side A: 3\n",
      "Enter the length of side B: 4\n",
      "Enter the length of side C: 5\n",
      "The area of the triangle is approximately 6 square units.\n",
      "The perimeter of the triangle is 12 linear units.\n"
     ]
    }
   ],
   "source": [
    "sideA=int(input(\"Enter the length of side A: \"))\n",
    "sideB=int(input(\"Enter the length of side B: \"))\n",
    "sideC=int(input(\"Enter the length of side C: \"))\n",
    "\n",
    "def calcPerimeter(sideA=1,sideB=1,sideC=1):\n",
    "    perimeter = sideA+sideB+sideC\n",
    "    return perimeter\n",
    "\n",
    "perimeter = calcPerimeter(sideA,sideB,sideC)\n",
    "s=perimeter/2\n",
    "\n",
    "def calcArea(sideA=1,sideB=1,sideC=1):\n",
    "    x=s*(s-sideA)*(s-sideB)*(s-sideC)\n",
    "    area=math.sqrt(x)\n",
    "    return area\n",
    "\n",
    "area = calcArea(sideA,sideB,sideC)\n",
    "perimeter = calcPerimeter(sideA,sideB,sideC)\n",
    "print(\"The area of the triangle is approximately\",round(area),\"square units.\")\n",
    "print(\"The perimeter of the triangle is\",perimeter,\"linear units.\")"
   ]
  },
  {
   "cell_type": "code",
   "execution_count": 3,
   "id": "673094d6",
   "metadata": {},
   "outputs": [
    {
     "name": "stdout",
     "output_type": "stream",
     "text": [
      "The area of the triangle is approximately 0.0 square units.\n",
      "The perimeter of the triangle is 3 linear units.\n"
     ]
    }
   ],
   "source": [
    "def calcPerimeter(sideA=1,sideB=1,sideC=1):\n",
    "    perimeter = sideA+sideB+sideC\n",
    "    return perimeter\n",
    "\n",
    "perimeter = calcPerimeter(sideA,sideB,sideC)\n",
    "s=perimeter/2\n",
    "\n",
    "def calcArea(sideA=1,sideB=1,sideC=1,s=1):\n",
    "    d=(s*(s-sideA)*(s-sideB)*(s-sideC))\n",
    "    area=math.sqrt(d)\n",
    "    return area\n",
    "\n",
    "area = calcArea()\n",
    "perimeter = calcPerimeter()\n",
    "print(\"The area of the triangle is approximately\",area,\"square units.\")\n",
    "print(\"The perimeter of the triangle is\",perimeter,\"linear units.\")"
   ]
  },
  {
   "cell_type": "code",
   "execution_count": 4,
   "id": "55197cc9",
   "metadata": {},
   "outputs": [],
   "source": [
    "import random"
   ]
  },
  {
   "cell_type": "code",
   "execution_count": 5,
   "id": "284efb14",
   "metadata": {},
   "outputs": [
    {
     "name": "stdout",
     "output_type": "stream",
     "text": [
      "Enter your guess: 500\n",
      "Too low! Guess again: \n",
      "Enter your guess: 600\n",
      "Too low! Guess again: \n",
      "Enter your guess: 700\n",
      "Too high! Guess again: \n",
      "Enter your guess: 650\n",
      "Too high! Guess again: \n",
      "Enter your guess: 640\n",
      "Too high! Guess again: \n",
      "Enter your guess: 630\n",
      "Too high! Guess again: \n",
      "Enter your guess: 620\n",
      "Too high! Guess again: \n",
      "Enter your guess: 610\n",
      "Too low! Guess again: \n",
      "Enter your guess: 619\n",
      "Too high! Guess again: \n",
      "Enter your guess: 618\n",
      "Too high! Guess again: \n",
      "Enter your guess: 617\n",
      "Too high! Guess again: \n",
      "Enter your guess: 616\n",
      "Too high! Guess again: \n",
      "Enter your guess: 615\n",
      "Too high! Guess again: \n",
      "Enter your guess: 614\n"
     ]
    },
    {
     "data": {
      "text/plain": [
       "'Correct!'"
      ]
     },
     "execution_count": 5,
     "metadata": {},
     "output_type": "execute_result"
    }
   ],
   "source": [
    "toolow=\"Too low! Guess again: \"\n",
    "toohigh=\"Too high! Guess again: \"\n",
    "def evaluateGuess(guess=int(input(\"Enter your guess: \")),x=random.randrange(1,1001)):\n",
    "    while True:\n",
    "        if guess<x:\n",
    "            print(toolow)\n",
    "            guess=int(input(\"Enter your guess: \"))\n",
    "        elif guess>x:\n",
    "            print(toohigh)\n",
    "            guess=int(input(\"Enter your guess: \"))\n",
    "        else:\n",
    "            return \"Correct!\"\n",
    "evaluateGuess()"
   ]
  },
  {
   "cell_type": "code",
   "execution_count": 6,
   "id": "4f99a467",
   "metadata": {},
   "outputs": [
    {
     "name": "stdout",
     "output_type": "stream",
     "text": [
      "The mean temperature for the past 6 days is 62.83 degrees F.\n"
     ]
    }
   ],
   "source": [
    "def meanTemp(*args):\n",
    "    mT=sum(args)/len(args)\n",
    "    print(f\"The mean temperature for the past {len(args)} days is {mT:.2f} degrees F.\")\n",
    "meanTemp(60,60,61,65,63,68)"
   ]
  },
  {
   "cell_type": "code",
   "execution_count": 7,
   "id": "0b870807",
   "metadata": {},
   "outputs": [
    {
     "name": "stdout",
     "output_type": "stream",
     "text": [
      "The mean temperature for the past 4 days is 55.00 degrees F.\n"
     ]
    }
   ],
   "source": [
    "meanTemp(55,66,41,58)"
   ]
  }
 ],
 "metadata": {
  "celltoolbar": "Raw Cell Format",
  "kernelspec": {
   "display_name": "Python 3 (ipykernel)",
   "language": "python",
   "name": "python3"
  },
  "language_info": {
   "codemirror_mode": {
    "name": "ipython",
    "version": 3
   },
   "file_extension": ".py",
   "mimetype": "text/x-python",
   "name": "python",
   "nbconvert_exporter": "python",
   "pygments_lexer": "ipython3",
   "version": "3.9.12"
  }
 },
 "nbformat": 4,
 "nbformat_minor": 5
}
